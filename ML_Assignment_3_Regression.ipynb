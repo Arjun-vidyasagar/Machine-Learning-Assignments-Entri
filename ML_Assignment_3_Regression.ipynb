{
 "cells": [
  {
   "cell_type": "code",
   "execution_count": 1,
   "id": "a197eece-1e77-4b13-9116-b5eab77294b1",
   "metadata": {},
   "outputs": [],
   "source": [
    "import pandas as pd\n",
    "import numpy as np\n",
    "from sklearn.datasets import fetch_california_housing\n",
    "from sklearn.model_selection import train_test_split\n",
    "from sklearn.preprocessing import StandardScaler\n",
    "from sklearn.linear_model import LinearRegression\n",
    "from sklearn.tree import DecisionTreeRegressor\n",
    "from sklearn.ensemble import RandomForestRegressor, GradientBoostingRegressor\n",
    "from sklearn.svm import SVR\n",
    "from sklearn.metrics import mean_squared_error, mean_absolute_error, r2_score\n"
   ]
  },
  {
   "cell_type": "code",
   "execution_count": 3,
   "id": "293d7f80-dcbd-4c70-89fe-c1791a558f53",
   "metadata": {},
   "outputs": [],
   "source": [
    "# Load the California Housing dataset\n",
    "housing = fetch_california_housing()\n",
    "X = pd.DataFrame(housing.data, columns=housing.feature_names)\n",
    "y = housing.target"
   ]
  },
  {
   "cell_type": "code",
   "execution_count": 5,
   "id": "ea2e5763-93f9-4edc-98fa-250fe064f45c",
   "metadata": {},
   "outputs": [
    {
     "name": "stdout",
     "output_type": "stream",
     "text": [
      "Missing values in features:\n",
      " MedInc        0\n",
      "HouseAge      0\n",
      "AveRooms      0\n",
      "AveBedrms     0\n",
      "Population    0\n",
      "AveOccup      0\n",
      "Latitude      0\n",
      "Longitude     0\n",
      "dtype: int64\n"
     ]
    }
   ],
   "source": [
    "# Check for missing values\n",
    "print(\"Missing values in features:\\n\", X.isnull().sum())"
   ]
  },
  {
   "cell_type": "code",
   "execution_count": 7,
   "id": "5847f421-c249-480a-a37f-04a25447c5c4",
   "metadata": {},
   "outputs": [],
   "source": [
    "# Split the data into training and testing sets\n",
    "X_train, X_test, y_train, y_test = train_test_split(X, y, test_size=0.2, random_state=42)"
   ]
  },
  {
   "cell_type": "code",
   "execution_count": 9,
   "id": "5ef2508d-ffa2-4e3d-a8c7-37dd7c37c6cc",
   "metadata": {},
   "outputs": [],
   "source": [
    "# Feature scaling using StandardScaler\n",
    "scaler = StandardScaler()\n",
    "X_train_scaled = scaler.fit_transform(X_train)\n",
    "X_test_scaled = scaler.transform(X_test)"
   ]
  },
  {
   "cell_type": "code",
   "execution_count": 23,
   "id": "e4a5dc91-97b1-41b9-aaa6-54edf840dd5c",
   "metadata": {},
   "outputs": [],
   "source": [
    "# Function to evaluate models\n",
    "def evaluate_model(name, model, X_train, X_test, y_train, y_test):\n",
    "    model.fit(X_train, y_train)\n",
    "    y_pred = model.predict(X_test)\n",
    "    mse = mean_squared_error(y_test, y_pred)\n",
    "    mae = mean_absolute_error(y_test, y_pred)\n",
    "    r2 = r2_score(y_test, y_pred)\n",
    "    print(f\"\\n{name}:\")\n",
    "    print(f\"MSE: {mse:.4f}\")\n",
    "    print(f\"MAE: {mae:.4f}\")\n",
    "    print(f\"R^2 Score: {r2:.4f}\")\n",
    "    return {\"Model\": name, \"MSE\": mse, \"MAE\": mae, \"R2\": r2}\n"
   ]
  },
  {
   "cell_type": "code",
   "execution_count": 15,
   "id": "edfd6fa9-7c0e-460d-9870-acd06a20dfa3",
   "metadata": {},
   "outputs": [],
   "source": [
    "# Initialize models\n",
    "models = [\n",
    "    (\"Linear Regression\", LinearRegression()),\n",
    "    (\"Decision Tree Regressor\", DecisionTreeRegressor(random_state=42)),\n",
    "    (\"Random Forest Regressor\", RandomForestRegressor(random_state=42)),\n",
    "    (\"Gradient Boosting Regressor\", GradientBoostingRegressor(random_state=42)),\n",
    "    (\"Support Vector Regressor (SVR)\", SVR())\n",
    "]"
   ]
  },
  {
   "cell_type": "code",
   "execution_count": 17,
   "id": "ebfad677-f2a2-480b-a994-f95e6f512aba",
   "metadata": {},
   "outputs": [
    {
     "name": "stdout",
     "output_type": "stream",
     "text": [
      "\n",
      "Linear Regression:\n",
      "MSE: 0.5559\n",
      "MAE: 0.5332\n",
      "R^2 Score: 0.5758\n",
      "\n",
      "Decision Tree Regressor:\n",
      "MSE: 0.4952\n",
      "MAE: 0.4547\n",
      "R^2 Score: 0.6221\n",
      "\n",
      "Random Forest Regressor:\n",
      "MSE: 0.2554\n",
      "MAE: 0.3275\n",
      "R^2 Score: 0.8051\n",
      "\n",
      "Gradient Boosting Regressor:\n",
      "MSE: 0.2940\n",
      "MAE: 0.3716\n",
      "R^2 Score: 0.7756\n",
      "\n",
      "Support Vector Regressor (SVR):\n",
      "MSE: 0.3570\n",
      "MAE: 0.3986\n",
      "R^2 Score: 0.7276\n"
     ]
    }
   ],
   "source": [
    "# Evaluate all models and collect results\n",
    "results = []\n",
    "for name, model in models:\n",
    "    if name == \"Support Vector Regressor (SVR)\":\n",
    "        results.append(evaluate_model(name, model, X_train_scaled, X_test_scaled, y_train, y_test))\n",
    "    else:\n",
    "        results.append(evaluate_model(name, model, X_train, X_test, y_train, y_test))"
   ]
  },
  {
   "cell_type": "code",
   "execution_count": 18,
   "id": "171bcca3-2228-420a-80d4-2c7830b23674",
   "metadata": {},
   "outputs": [
    {
     "name": "stdout",
     "output_type": "stream",
     "text": [
      "\n",
      "Model Comparison:\n",
      "                            Model       MSE       MAE        R2\n",
      "2         Random Forest Regressor  0.255368  0.327543  0.805123\n",
      "3     Gradient Boosting Regressor  0.293997  0.371643  0.775645\n",
      "4  Support Vector Regressor (SVR)  0.357004  0.398599  0.727563\n",
      "1         Decision Tree Regressor  0.495235  0.454679  0.622076\n",
      "0               Linear Regression  0.555892  0.533200  0.575788\n"
     ]
    }
   ],
   "source": [
    "# Compare results\n",
    "results_df = pd.DataFrame(results)\n",
    "print(\"\\nModel Comparison:\")\n",
    "print(results_df.sort_values(by=\"R2\", ascending=False))\n"
   ]
  },
  {
   "cell_type": "code",
   "execution_count": null,
   "id": "10ed5754-1b04-4869-a56f-e5fb2b9efe18",
   "metadata": {},
   "outputs": [],
   "source": []
  }
 ],
 "metadata": {
  "kernelspec": {
   "display_name": "Python [conda env:base] *",
   "language": "python",
   "name": "conda-base-py"
  },
  "language_info": {
   "codemirror_mode": {
    "name": "ipython",
    "version": 3
   },
   "file_extension": ".py",
   "mimetype": "text/x-python",
   "name": "python",
   "nbconvert_exporter": "python",
   "pygments_lexer": "ipython3",
   "version": "3.12.7"
  }
 },
 "nbformat": 4,
 "nbformat_minor": 5
}
