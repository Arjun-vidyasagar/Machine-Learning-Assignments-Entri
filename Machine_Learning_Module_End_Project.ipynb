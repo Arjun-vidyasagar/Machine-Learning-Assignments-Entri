{
 "cells": [
  {
   "cell_type": "code",
   "execution_count": 1,
   "id": "c4ccc0a0-6ea7-40e9-8944-66af70e2ab35",
   "metadata": {},
   "outputs": [],
   "source": [
    "import pandas as pd\n",
    "import numpy as np\n",
    "import matplotlib.pyplot as plt\n",
    "import seaborn as sns\n",
    "from sklearn.model_selection import train_test_split\n",
    "from sklearn.linear_model import LinearRegression\n",
    "from sklearn.tree import DecisionTreeRegressor\n",
    "from sklearn.ensemble import RandomForestRegressor, GradientBoostingRegressor\n",
    "from sklearn.svm import SVR\n",
    "from sklearn.metrics import r2_score, mean_squared_error, mean_absolute_error\n",
    "from sklearn.model_selection import GridSearchCV\n"
   ]
  },
  {
   "cell_type": "code",
   "execution_count": 7,
   "id": "11f3a065-3b71-4a5f-a75d-b7b69ed90315",
   "metadata": {},
   "outputs": [],
   "source": [
    "# Loading the dataset\n",
    "df = pd.read_csv('CarPrice_Assignment.csv')"
   ]
  },
  {
   "cell_type": "code",
   "execution_count": 9,
   "id": "29a874c4-f13c-4305-b194-5e090c9d3e08",
   "metadata": {},
   "outputs": [
    {
     "name": "stdout",
     "output_type": "stream",
     "text": [
      "<class 'pandas.core.frame.DataFrame'>\n",
      "RangeIndex: 205 entries, 0 to 204\n",
      "Data columns (total 26 columns):\n",
      " #   Column            Non-Null Count  Dtype  \n",
      "---  ------            --------------  -----  \n",
      " 0   car_ID            205 non-null    int64  \n",
      " 1   symboling         205 non-null    int64  \n",
      " 2   CarName           205 non-null    object \n",
      " 3   fueltype          205 non-null    object \n",
      " 4   aspiration        205 non-null    object \n",
      " 5   doornumber        205 non-null    object \n",
      " 6   carbody           205 non-null    object \n",
      " 7   drivewheel        205 non-null    object \n",
      " 8   enginelocation    205 non-null    object \n",
      " 9   wheelbase         205 non-null    float64\n",
      " 10  carlength         205 non-null    float64\n",
      " 11  carwidth          205 non-null    float64\n",
      " 12  carheight         205 non-null    float64\n",
      " 13  curbweight        205 non-null    int64  \n",
      " 14  enginetype        205 non-null    object \n",
      " 15  cylindernumber    205 non-null    object \n",
      " 16  enginesize        205 non-null    int64  \n",
      " 17  fuelsystem        205 non-null    object \n",
      " 18  boreratio         205 non-null    float64\n",
      " 19  stroke            205 non-null    float64\n",
      " 20  compressionratio  205 non-null    float64\n",
      " 21  horsepower        205 non-null    int64  \n",
      " 22  peakrpm           205 non-null    int64  \n",
      " 23  citympg           205 non-null    int64  \n",
      " 24  highwaympg        205 non-null    int64  \n",
      " 25  price             205 non-null    float64\n",
      "dtypes: float64(8), int64(8), object(10)\n",
      "memory usage: 41.8+ KB\n"
     ]
    },
    {
     "data": {
      "text/plain": [
       "(None,\n",
       "    car_ID  symboling                   CarName fueltype aspiration doornumber  \\\n",
       " 0       1          3        alfa-romero giulia      gas        std        two   \n",
       " 1       2          3       alfa-romero stelvio      gas        std        two   \n",
       " 2       3          1  alfa-romero Quadrifoglio      gas        std        two   \n",
       " 3       4          2               audi 100 ls      gas        std       four   \n",
       " 4       5          2                audi 100ls      gas        std       four   \n",
       " \n",
       "        carbody drivewheel enginelocation  wheelbase  ...  enginesize  \\\n",
       " 0  convertible        rwd          front       88.6  ...         130   \n",
       " 1  convertible        rwd          front       88.6  ...         130   \n",
       " 2    hatchback        rwd          front       94.5  ...         152   \n",
       " 3        sedan        fwd          front       99.8  ...         109   \n",
       " 4        sedan        4wd          front       99.4  ...         136   \n",
       " \n",
       "    fuelsystem  boreratio  stroke compressionratio horsepower  peakrpm citympg  \\\n",
       " 0        mpfi       3.47    2.68              9.0        111     5000      21   \n",
       " 1        mpfi       3.47    2.68              9.0        111     5000      21   \n",
       " 2        mpfi       2.68    3.47              9.0        154     5000      19   \n",
       " 3        mpfi       3.19    3.40             10.0        102     5500      24   \n",
       " 4        mpfi       3.19    3.40              8.0        115     5500      18   \n",
       " \n",
       "    highwaympg    price  \n",
       " 0          27  13495.0  \n",
       " 1          27  16500.0  \n",
       " 2          26  16500.0  \n",
       " 3          30  13950.0  \n",
       " 4          22  17450.0  \n",
       " \n",
       " [5 rows x 26 columns])"
      ]
     },
     "execution_count": 9,
     "metadata": {},
     "output_type": "execute_result"
    }
   ],
   "source": [
    "df.info(), df.head()"
   ]
  },
  {
   "cell_type": "code",
   "execution_count": 11,
   "id": "0f273e49-b7ed-4250-8eab-414742bba154",
   "metadata": {},
   "outputs": [],
   "source": [
    "# Step 1: Preprocessing"
   ]
  },
  {
   "cell_type": "code",
   "execution_count": 14,
   "id": "55cc152a-df00-4e27-93c1-baeeb1924d2d",
   "metadata": {},
   "outputs": [],
   "source": [
    "# Splitting 'CarName' to extract brand names\n",
    "df['CarBrand'] = df['CarName'].apply(lambda x: x.split(' ')[0].lower())"
   ]
  },
  {
   "cell_type": "code",
   "execution_count": 16,
   "id": "6dd7a867-6bcd-467c-a828-a4a25c28cc98",
   "metadata": {},
   "outputs": [],
   "source": [
    "# Correcting common brand name typos\n",
    "brand_corrections = {\n",
    "    'maxda': 'mazda', 'porcshce': 'porsche', 'toyouta': 'toyota',\n",
    "    'vokswagen': 'volkswagen', 'vw': 'volkswagen', 'Nissan': 'nissan'\n",
    "}\n",
    "df['CarBrand'] = df['CarBrand'].replace(brand_corrections)"
   ]
  },
  {
   "cell_type": "code",
   "execution_count": 18,
   "id": "8a999085-38dd-4fc4-a42d-1015ceb8c40c",
   "metadata": {},
   "outputs": [],
   "source": [
    "# Dropping columns that are not useful for modeling\n",
    "df.drop(['car_ID', 'CarName'], axis=1, inplace=True)"
   ]
  },
  {
   "cell_type": "code",
   "execution_count": 20,
   "id": "5956870f-70a3-488f-8107-f097da114aba",
   "metadata": {},
   "outputs": [],
   "source": [
    "# Converting categorical variables to dummy/indicator variables\n",
    "categorical_cols = df.select_dtypes(include='object').columns\n",
    "df_encoded = pd.get_dummies(df, columns=categorical_cols, drop_first=True)"
   ]
  },
  {
   "cell_type": "code",
   "execution_count": 22,
   "id": "d5586213-a0cb-4d1c-9696-d97ff7847fa4",
   "metadata": {},
   "outputs": [],
   "source": [
    "# Checking for missing values\n",
    "missing_values = df_encoded.isnull().sum().sum()"
   ]
  },
  {
   "cell_type": "code",
   "execution_count": 24,
   "id": "4849ae0d-d13a-404e-9eae-c234c2811b43",
   "metadata": {},
   "outputs": [
    {
     "data": {
      "text/plain": [
       "((205, 65),\n",
       " ['symboling',\n",
       "  'wheelbase',\n",
       "  'carlength',\n",
       "  'carwidth',\n",
       "  'carheight',\n",
       "  'curbweight',\n",
       "  'enginesize',\n",
       "  'boreratio',\n",
       "  'stroke',\n",
       "  'compressionratio',\n",
       "  'horsepower',\n",
       "  'peakrpm',\n",
       "  'citympg',\n",
       "  'highwaympg',\n",
       "  'price',\n",
       "  'fueltype_gas',\n",
       "  'aspiration_turbo',\n",
       "  'doornumber_two',\n",
       "  'carbody_hardtop',\n",
       "  'carbody_hatchback',\n",
       "  'carbody_sedan',\n",
       "  'carbody_wagon',\n",
       "  'drivewheel_fwd',\n",
       "  'drivewheel_rwd',\n",
       "  'enginelocation_rear',\n",
       "  'enginetype_dohcv',\n",
       "  'enginetype_l',\n",
       "  'enginetype_ohc',\n",
       "  'enginetype_ohcf',\n",
       "  'enginetype_ohcv',\n",
       "  'enginetype_rotor',\n",
       "  'cylindernumber_five',\n",
       "  'cylindernumber_four',\n",
       "  'cylindernumber_six',\n",
       "  'cylindernumber_three',\n",
       "  'cylindernumber_twelve',\n",
       "  'cylindernumber_two',\n",
       "  'fuelsystem_2bbl',\n",
       "  'fuelsystem_4bbl',\n",
       "  'fuelsystem_idi',\n",
       "  'fuelsystem_mfi',\n",
       "  'fuelsystem_mpfi',\n",
       "  'fuelsystem_spdi',\n",
       "  'fuelsystem_spfi',\n",
       "  'CarBrand_audi',\n",
       "  'CarBrand_bmw',\n",
       "  'CarBrand_buick',\n",
       "  'CarBrand_chevrolet',\n",
       "  'CarBrand_dodge',\n",
       "  'CarBrand_honda',\n",
       "  'CarBrand_isuzu',\n",
       "  'CarBrand_jaguar',\n",
       "  'CarBrand_mazda',\n",
       "  'CarBrand_mercury',\n",
       "  'CarBrand_mitsubishi',\n",
       "  'CarBrand_nissan',\n",
       "  'CarBrand_peugeot',\n",
       "  'CarBrand_plymouth',\n",
       "  'CarBrand_porsche',\n",
       "  'CarBrand_renault',\n",
       "  'CarBrand_saab',\n",
       "  'CarBrand_subaru',\n",
       "  'CarBrand_toyota',\n",
       "  'CarBrand_volkswagen',\n",
       "  'CarBrand_volvo'],\n",
       " 0)"
      ]
     },
     "execution_count": 24,
     "metadata": {},
     "output_type": "execute_result"
    }
   ],
   "source": [
    "# Displaying the shape and columns after preprocessing\n",
    "df_encoded.shape, df_encoded.columns.tolist(), missing_values"
   ]
  },
  {
   "cell_type": "code",
   "execution_count": 26,
   "id": "2d5d1533-7fac-4cfa-bed4-3b822b1e3780",
   "metadata": {},
   "outputs": [],
   "source": [
    "# Separating features and target\n",
    "X = df_encoded.drop('price', axis=1)\n",
    "y = df_encoded['price']"
   ]
  },
  {
   "cell_type": "code",
   "execution_count": 28,
   "id": "be459120-8b46-48a9-bc79-944f3ffd6e6a",
   "metadata": {},
   "outputs": [],
   "source": [
    "# Splitting the data\n",
    "X_train, X_test, y_train, y_test = train_test_split(X, y, test_size=0.2, random_state=42)"
   ]
  },
  {
   "cell_type": "code",
   "execution_count": 30,
   "id": "1899bd61-d3ff-442d-b89b-59a340402698",
   "metadata": {},
   "outputs": [],
   "source": [
    "# Initialize models\n",
    "models = {\n",
    "    'Linear Regression': LinearRegression(),\n",
    "    'Decision Tree': DecisionTreeRegressor(random_state=42),\n",
    "    'Random Forest': RandomForestRegressor(random_state=42),\n",
    "    'Gradient Boosting': GradientBoostingRegressor(random_state=42),\n",
    "    'Support Vector Regressor': SVR()\n",
    "}"
   ]
  },
  {
   "cell_type": "code",
   "execution_count": 32,
   "id": "557bb3a3-ffbb-4a2b-8948-9bb2a9f0ba2a",
   "metadata": {},
   "outputs": [],
   "source": [
    "# Training and evaluating models\n",
    "results = {}\n",
    "\n",
    "for name, model in models.items():\n",
    "    model.fit(X_train, y_train)\n",
    "    y_pred = model.predict(X_test)\n",
    "    results[name] = {\n",
    "        'R2 Score': r2_score(y_test, y_pred),\n",
    "        'MSE': mean_squared_error(y_test, y_pred),\n",
    "        'MAE': mean_absolute_error(y_test, y_pred)\n",
    "    }\n"
   ]
  },
  {
   "cell_type": "code",
   "execution_count": 34,
   "id": "fcb0517d-891a-4d63-90c3-95514d78f855",
   "metadata": {},
   "outputs": [
    {
     "data": {
      "text/html": [
       "<div>\n",
       "<style scoped>\n",
       "    .dataframe tbody tr th:only-of-type {\n",
       "        vertical-align: middle;\n",
       "    }\n",
       "\n",
       "    .dataframe tbody tr th {\n",
       "        vertical-align: top;\n",
       "    }\n",
       "\n",
       "    .dataframe thead th {\n",
       "        text-align: right;\n",
       "    }\n",
       "</style>\n",
       "<table border=\"1\" class=\"dataframe\">\n",
       "  <thead>\n",
       "    <tr style=\"text-align: right;\">\n",
       "      <th></th>\n",
       "      <th>R2 Score</th>\n",
       "      <th>MSE</th>\n",
       "      <th>MAE</th>\n",
       "    </tr>\n",
       "  </thead>\n",
       "  <tbody>\n",
       "    <tr>\n",
       "      <th>Random Forest</th>\n",
       "      <td>0.958417</td>\n",
       "      <td>3.282767e+06</td>\n",
       "      <td>1288.825012</td>\n",
       "    </tr>\n",
       "    <tr>\n",
       "      <th>Gradient Boosting</th>\n",
       "      <td>0.924181</td>\n",
       "      <td>5.985429e+06</td>\n",
       "      <td>1710.336389</td>\n",
       "    </tr>\n",
       "    <tr>\n",
       "      <th>Linear Regression</th>\n",
       "      <td>0.909701</td>\n",
       "      <td>7.128547e+06</td>\n",
       "      <td>1763.565986</td>\n",
       "    </tr>\n",
       "    <tr>\n",
       "      <th>Decision Tree</th>\n",
       "      <td>0.906907</td>\n",
       "      <td>7.349134e+06</td>\n",
       "      <td>1782.589439</td>\n",
       "    </tr>\n",
       "    <tr>\n",
       "      <th>Support Vector Regressor</th>\n",
       "      <td>-0.101980</td>\n",
       "      <td>8.699470e+07</td>\n",
       "      <td>5707.132621</td>\n",
       "    </tr>\n",
       "  </tbody>\n",
       "</table>\n",
       "</div>"
      ],
      "text/plain": [
       "                          R2 Score           MSE          MAE\n",
       "Random Forest             0.958417  3.282767e+06  1288.825012\n",
       "Gradient Boosting         0.924181  5.985429e+06  1710.336389\n",
       "Linear Regression         0.909701  7.128547e+06  1763.565986\n",
       "Decision Tree             0.906907  7.349134e+06  1782.589439\n",
       "Support Vector Regressor -0.101980  8.699470e+07  5707.132621"
      ]
     },
     "execution_count": 34,
     "metadata": {},
     "output_type": "execute_result"
    }
   ],
   "source": [
    "# Converting results to a DataFrame for easy comparison\n",
    "results_df = pd.DataFrame(results).T.sort_values(by='R2 Score', ascending=False)\n",
    "results_df"
   ]
  },
  {
   "cell_type": "code",
   "execution_count": 36,
   "id": "f4566397-f8fe-4934-a7c1-a0297a6b760b",
   "metadata": {},
   "outputs": [],
   "source": [
    "# Feature importance from Random Forest\n",
    "rf_model = models['Random Forest']\n",
    "importances = rf_model.feature_importances_\n",
    "features = X.columns"
   ]
  },
  {
   "cell_type": "code",
   "execution_count": 38,
   "id": "206dfa97-2d92-449f-a307-cadb3151897a",
   "metadata": {},
   "outputs": [],
   "source": [
    "# Creating a DataFrame for better visualization\n",
    "feat_importance_df = pd.DataFrame({'Feature': features, 'Importance': importances})\n",
    "feat_importance_df.sort_values(by='Importance', ascending=False, inplace=True)"
   ]
  },
  {
   "cell_type": "code",
   "execution_count": 40,
   "id": "0a56fc00-3656-4656-8249-8828671f7ff8",
   "metadata": {},
   "outputs": [
    {
     "data": {
      "image/png": "[encoded data removed]",
      "text/plain": [
       "<Figure size 1200x600 with 1 Axes>"
      ]
     },
     "metadata": {},
     "output_type": "display_data"
    }
   ],
   "source": [
    "# Plotting top 15 features\n",
    "plt.figure(figsize=(12, 6))\n",
    "sns.barplot(x='Importance', y='Feature', data=feat_importance_df.head(15))\n",
    "plt.title('Top 15 Important Features for Predicting Car Price (Random Forest)')\n",
    "plt.tight_layout()\n",
    "plt.show()"
   ]
  },
  {
   "cell_type": "code",
   "execution_count": 42,
   "id": "ed98a9cc-2612-40f3-807e-cc3ac02f2323",
   "metadata": {},
   "outputs": [
    {
     "data": {
      "text/html": [
       "<div>\n",
       "<style scoped>\n",
       "    .dataframe tbody tr th:only-of-type {\n",
       "        vertical-align: middle;\n",
       "    }\n",
       "\n",
       "    .dataframe tbody tr th {\n",
       "        vertical-align: top;\n",
       "    }\n",
       "\n",
       "    .dataframe thead th {\n",
       "        text-align: right;\n",
       "    }\n",
       "</style>\n",
       "<table border=\"1\" class=\"dataframe\">\n",
       "  <thead>\n",
       "    <tr style=\"text-align: right;\">\n",
       "      <th></th>\n",
       "      <th>Feature</th>\n",
       "      <th>Importance</th>\n",
       "    </tr>\n",
       "  </thead>\n",
       "  <tbody>\n",
       "    <tr>\n",
       "      <th>6</th>\n",
       "      <td>enginesize</td>\n",
       "      <td>0.544159</td>\n",
       "    </tr>\n",
       "    <tr>\n",
       "      <th>5</th>\n",
       "      <td>curbweight</td>\n",
       "      <td>0.298449</td>\n",
       "    </tr>\n",
       "    <tr>\n",
       "      <th>13</th>\n",
       "      <td>highwaympg</td>\n",
       "      <td>0.044743</td>\n",
       "    </tr>\n",
       "    <tr>\n",
       "      <th>10</th>\n",
       "      <td>horsepower</td>\n",
       "      <td>0.033483</td>\n",
       "    </tr>\n",
       "    <tr>\n",
       "      <th>3</th>\n",
       "      <td>carwidth</td>\n",
       "      <td>0.013090</td>\n",
       "    </tr>\n",
       "    <tr>\n",
       "      <th>2</th>\n",
       "      <td>carlength</td>\n",
       "      <td>0.007767</td>\n",
       "    </tr>\n",
       "    <tr>\n",
       "      <th>44</th>\n",
       "      <td>CarBrand_bmw</td>\n",
       "      <td>0.007114</td>\n",
       "    </tr>\n",
       "    <tr>\n",
       "      <th>1</th>\n",
       "      <td>wheelbase</td>\n",
       "      <td>0.006991</td>\n",
       "    </tr>\n",
       "    <tr>\n",
       "      <th>12</th>\n",
       "      <td>citympg</td>\n",
       "      <td>0.006420</td>\n",
       "    </tr>\n",
       "    <tr>\n",
       "      <th>11</th>\n",
       "      <td>peakrpm</td>\n",
       "      <td>0.006174</td>\n",
       "    </tr>\n",
       "  </tbody>\n",
       "</table>\n",
       "</div>"
      ],
      "text/plain": [
       "         Feature  Importance\n",
       "6     enginesize    0.544159\n",
       "5     curbweight    0.298449\n",
       "13    highwaympg    0.044743\n",
       "10    horsepower    0.033483\n",
       "3       carwidth    0.013090\n",
       "2      carlength    0.007767\n",
       "44  CarBrand_bmw    0.007114\n",
       "1      wheelbase    0.006991\n",
       "12       citympg    0.006420\n",
       "11       peakrpm    0.006174"
      ]
     },
     "execution_count": 42,
     "metadata": {},
     "output_type": "execute_result"
    }
   ],
   "source": [
    "# Displaying top 10 features\n",
    "feat_importance_df.head(10)"
   ]
  },
  {
   "cell_type": "code",
   "execution_count": 44,
   "id": "b8d7518a-1915-47b5-93f1-aea03febeae3",
   "metadata": {},
   "outputs": [],
   "source": [
    "importances = rf_model.feature_importances_\n",
    "features = X.columns\n",
    "\n",
    "feat_importance_df = pd.DataFrame({'Feature': features, 'Importance': importances})\n",
    "feat_importance_df.sort_values(by='Importance', ascending=False, inplace=True)"
   ]
  },
  {
   "cell_type": "code",
   "execution_count": 48,
   "id": "05cc8ba9-b50e-4c22-86a8-fed3dea12669",
   "metadata": {},
   "outputs": [
    {
     "data": {
      "image/png": "[encoded data removed]",
      "text/plain": [
       "<Figure size 1200x600 with 1 Axes>"
      ]
     },
     "metadata": {},
     "output_type": "display_data"
    }
   ],
   "source": [
    "# Plotting top 15\n",
    "plt.figure(figsize=(12, 6))\n",
    "sns.barplot(x='Importance', y='Feature', data=feat_importance_df.head(15))\n",
    "plt.title('Top 15 Important Features for Predicting Car Price (Random Forest)')\n",
    "plt.tight_layout()\n",
    "plt.show()"
   ]
  },
  {
   "cell_type": "code",
   "execution_count": 50,
   "id": "20984dd3-5909-441e-87f7-0de231d0f4b8",
   "metadata": {},
   "outputs": [
    {
     "name": "stdout",
     "output_type": "stream",
     "text": [
      "Best Parameters: {'max_depth': None, 'min_samples_leaf': 1, 'min_samples_split': 2, 'n_estimators': 200}\n",
      "Best R² Score: 0.8889809113243816\n"
     ]
    }
   ],
   "source": [
    "param_grid = {\n",
    "    'n_estimators': [100, 200],\n",
    "    'max_depth': [None, 10, 20],\n",
    "    'min_samples_split': [2, 5],\n",
    "    'min_samples_leaf': [1, 2]\n",
    "}\n",
    "\n",
    "grid_search = GridSearchCV(RandomForestRegressor(random_state=42), param_grid,\n",
    "                           cv=5, scoring='r2', n_jobs=-1)\n",
    "grid_search.fit(X_train, y_train)\n",
    "\n",
    "print(\"Best Parameters:\", grid_search.best_params_)\n",
    "print(\"Best R² Score:\", grid_search.best_score_)"
   ]
  },
  {
   "cell_type": "code",
   "execution_count": null,
   "id": "8a9a7113-d647-4d0b-a7b6-a1f8157c9657",
   "metadata": {},
   "outputs": [],
   "source": []
  }
 ],
 "metadata": {
  "kernelspec": {
   "display_name": "Python [conda env:base] *",
   "language": "python",
   "name": "conda-base-py"
  },
  "language_info": {
   "codemirror_mode": {
    "name": "ipython",
    "version": 3
   },
   "file_extension": ".py",
   "mimetype": "text/x-python",
   "name": "python",
   "nbconvert_exporter": "python",
   "pygments_lexer": "ipython3",
   "version": "3.12.7"
  }
 },
 "nbformat": 4,
 "nbformat_minor": 5
}
